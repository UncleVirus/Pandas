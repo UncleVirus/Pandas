{
 "cells": [
  {
   "cell_type": "markdown",
   "metadata": {},
   "source": [
    "# pandas Introduction"
   ]
  },
  {
   "cell_type": "markdown",
   "metadata": {},
   "source": [
    "The pandas package is included with the Anaconda distribution and it is one of the most often used Python packages in data science.  It must be imported and the pd alias is the universal alias for pandas."
   ]
  },
  {
   "cell_type": "code",
   "execution_count": 1,
   "metadata": {
    "collapsed": true
   },
   "outputs": [],
   "source": [
    "import pandas as pd"
   ]
  },
  {
   "cell_type": "markdown",
   "metadata": {},
   "source": [
    "The two main types of data type in pandas are **Series** and **DataFrames**.  They have similar functionality, the main difference being that Series have only one column of data and DataFrames can have multiple columns of data.  As with numpy ndarrays, each data column can have only one data type (e.g., int32, float64, object)."
   ]
  },
  {
   "cell_type": "markdown",
   "metadata": {},
   "source": [
    "## A Series with Categorical Data\n",
    "\n",
    "pd.Series performs a data type conversion, in the case below, from a Python list to a pandas Series data type."
   ]
  },
  {
   "cell_type": "code",
   "execution_count": 2,
   "metadata": {
    "scrolled": true
   },
   "outputs": [
    {
     "data": {
      "text/plain": [
       "0        chocolate\n",
       "1       strawberry\n",
       "2          vanilla\n",
       "3       rum raisin\n",
       "4        chocolate\n",
       "5          vanilla\n",
       "6          vanilla\n",
       "7       strawberry\n",
       "8       rum raisin\n",
       "9        chocolate\n",
       "10      strawberry\n",
       "11    cotton candy\n",
       "12       chocolate\n",
       "13         vanilla\n",
       "14      rum raisin\n",
       "15         vanilla\n",
       "16         vanilla\n",
       "17      strawberry\n",
       "18       chocolate\n",
       "19         vanilla\n",
       "20       chocolate\n",
       "21         vanilla\n",
       "22      strawberry\n",
       "23         vanilla\n",
       "24       chocolate\n",
       "25       chocolate\n",
       "26      purple cow\n",
       "27       chocolate\n",
       "28      rum raisin\n",
       "29         vanilla\n",
       "30       chocolate\n",
       "31      bubble gum\n",
       "32         vanilla\n",
       "dtype: object"
      ]
     },
     "execution_count": 2,
     "metadata": {},
     "output_type": "execute_result"
    }
   ],
   "source": [
    "ic = ['chocolate', 'strawberry', 'vanilla', 'rum raisin', 'chocolate', 'vanilla', 'vanilla', 'strawberry', 'rum raisin', 'chocolate', 'strawberry', 'cotton candy', 'chocolate', 'vanilla', 'rum raisin', 'vanilla', 'vanilla', 'strawberry', 'chocolate', 'vanilla', 'chocolate', 'vanilla', 'strawberry', 'vanilla', 'chocolate', 'chocolate', 'purple cow', 'chocolate', 'rum raisin', 'vanilla', 'chocolate', 'bubble gum', 'vanilla']\n",
    "ic = pd.Series(ic)\n",
    "ic"
   ]
  },
  {
   "cell_type": "code",
   "execution_count": 3,
   "metadata": {},
   "outputs": [
    {
     "data": {
      "text/plain": [
       "pandas.core.series.Series"
      ]
     },
     "execution_count": 3,
     "metadata": {},
     "output_type": "execute_result"
    }
   ],
   "source": [
    "type(ic)"
   ]
  },
  {
   "cell_type": "code",
   "execution_count": 4,
   "metadata": {},
   "outputs": [
    {
     "data": {
      "text/plain": [
       "0     chocolate\n",
       "1    strawberry\n",
       "2       vanilla\n",
       "3    rum raisin\n",
       "4     chocolate\n",
       "dtype: object"
      ]
     },
     "execution_count": 4,
     "metadata": {},
     "output_type": "execute_result"
    }
   ],
   "source": [
    "ic.head()"
   ]
  },
  {
   "cell_type": "code",
   "execution_count": 5,
   "metadata": {},
   "outputs": [
    {
     "data": {
      "text/plain": [
       "0     chocolate\n",
       "1    strawberry\n",
       "2       vanilla\n",
       "dtype: object"
      ]
     },
     "execution_count": 5,
     "metadata": {},
     "output_type": "execute_result"
    }
   ],
   "source": [
    "ic.head(n=3)"
   ]
  },
  {
   "cell_type": "markdown",
   "metadata": {},
   "source": [
    "## Series Structure\n",
    "\n",
    "Series have one data column and an index \"column.\"  The index column is generated automatically when you do the data type conversion, although you can manually change the data in the index column, which is meant primarily for accessing data in the values column and, perhaps, as labels for plotting the data.  The data in the \"data\" column are accessible with the .values property and the indices are available with the .index property."
   ]
  },
  {
   "cell_type": "code",
   "execution_count": 6,
   "metadata": {},
   "outputs": [
    {
     "data": {
      "text/plain": [
       "array(['chocolate', 'strawberry', 'vanilla', 'rum raisin', 'chocolate',\n",
       "       'vanilla', 'vanilla', 'strawberry', 'rum raisin', 'chocolate',\n",
       "       'strawberry', 'cotton candy', 'chocolate', 'vanilla', 'rum raisin',\n",
       "       'vanilla', 'vanilla', 'strawberry', 'chocolate', 'vanilla',\n",
       "       'chocolate', 'vanilla', 'strawberry', 'vanilla', 'chocolate',\n",
       "       'chocolate', 'purple cow', 'chocolate', 'rum raisin', 'vanilla',\n",
       "       'chocolate', 'bubble gum', 'vanilla'], dtype=object)"
      ]
     },
     "execution_count": 6,
     "metadata": {},
     "output_type": "execute_result"
    }
   ],
   "source": [
    "ic.values"
   ]
  },
  {
   "cell_type": "code",
   "execution_count": 7,
   "metadata": {},
   "outputs": [
    {
     "data": {
      "text/plain": [
       "numpy.ndarray"
      ]
     },
     "execution_count": 7,
     "metadata": {},
     "output_type": "execute_result"
    }
   ],
   "source": [
    "type(ic.values)"
   ]
  },
  {
   "cell_type": "code",
   "execution_count": 8,
   "metadata": {},
   "outputs": [
    {
     "data": {
      "text/plain": [
       "RangeIndex(start=0, stop=33, step=1)"
      ]
     },
     "execution_count": 8,
     "metadata": {},
     "output_type": "execute_result"
    }
   ],
   "source": [
    "ic.index"
   ]
  },
  {
   "cell_type": "code",
   "execution_count": 9,
   "metadata": {},
   "outputs": [
    {
     "data": {
      "text/plain": [
       "33"
      ]
     },
     "execution_count": 9,
     "metadata": {},
     "output_type": "execute_result"
    }
   ],
   "source": [
    "ic.size"
   ]
  },
  {
   "cell_type": "markdown",
   "metadata": {},
   "source": [
    "You can name your Series, if you wish.  The name will be shown when you print the Series."
   ]
  },
  {
   "cell_type": "code",
   "execution_count": 10,
   "metadata": {
    "collapsed": true
   },
   "outputs": [],
   "source": [
    "ic.name = 'Flavor'"
   ]
  },
  {
   "cell_type": "code",
   "execution_count": 11,
   "metadata": {},
   "outputs": [
    {
     "data": {
      "text/plain": [
       "'Flavor'"
      ]
     },
     "execution_count": 11,
     "metadata": {},
     "output_type": "execute_result"
    }
   ],
   "source": [
    "ic.name"
   ]
  },
  {
   "cell_type": "markdown",
   "metadata": {},
   "source": [
    "Collapse or expand the listing of the Series by clicking in the laft margin."
   ]
  },
  {
   "cell_type": "code",
   "execution_count": 12,
   "metadata": {
    "scrolled": true
   },
   "outputs": [
    {
     "data": {
      "text/plain": [
       "0        chocolate\n",
       "1       strawberry\n",
       "2          vanilla\n",
       "3       rum raisin\n",
       "4        chocolate\n",
       "5          vanilla\n",
       "6          vanilla\n",
       "7       strawberry\n",
       "8       rum raisin\n",
       "9        chocolate\n",
       "10      strawberry\n",
       "11    cotton candy\n",
       "12       chocolate\n",
       "13         vanilla\n",
       "14      rum raisin\n",
       "15         vanilla\n",
       "16         vanilla\n",
       "17      strawberry\n",
       "18       chocolate\n",
       "19         vanilla\n",
       "20       chocolate\n",
       "21         vanilla\n",
       "22      strawberry\n",
       "23         vanilla\n",
       "24       chocolate\n",
       "25       chocolate\n",
       "26      purple cow\n",
       "27       chocolate\n",
       "28      rum raisin\n",
       "29         vanilla\n",
       "30       chocolate\n",
       "31      bubble gum\n",
       "32         vanilla\n",
       "Name: Flavor, dtype: object"
      ]
     },
     "execution_count": 12,
     "metadata": {},
     "output_type": "execute_result"
    }
   ],
   "source": [
    "ic"
   ]
  },
  {
   "cell_type": "markdown",
   "metadata": {},
   "source": [
    "## Operations with Series"
   ]
  },
  {
   "cell_type": "markdown",
   "metadata": {},
   "source": [
    "A very useful method for analyzing categorical data and plotting it, in a histogram, is the .value_counts() method.  It gives the number of observations found for each value in the data column."
   ]
  },
  {
   "cell_type": "code",
   "execution_count": 13,
   "metadata": {},
   "outputs": [
    {
     "data": {
      "text/plain": [
       "vanilla         11\n",
       "chocolate       10\n",
       "strawberry       5\n",
       "rum raisin       4\n",
       "cotton candy     1\n",
       "purple cow       1\n",
       "bubble gum       1\n",
       "Name: Flavor, dtype: int64"
      ]
     },
     "execution_count": 13,
     "metadata": {},
     "output_type": "execute_result"
    }
   ],
   "source": [
    "ic.value_counts()"
   ]
  },
  {
   "cell_type": "code",
   "execution_count": 14,
   "metadata": {},
   "outputs": [
    {
     "data": {
      "text/plain": [
       "pandas.core.series.Series"
      ]
     },
     "execution_count": 14,
     "metadata": {},
     "output_type": "execute_result"
    }
   ],
   "source": [
    "type(ic.value_counts())"
   ]
  },
  {
   "cell_type": "code",
   "execution_count": 15,
   "metadata": {},
   "outputs": [
    {
     "data": {
      "text/plain": [
       "Index(['vanilla', 'chocolate', 'strawberry', 'rum raisin', 'cotton candy',\n",
       "       'purple cow', 'bubble gum'],\n",
       "      dtype='object')"
      ]
     },
     "execution_count": 15,
     "metadata": {},
     "output_type": "execute_result"
    }
   ],
   "source": [
    "ic.value_counts().index"
   ]
  },
  {
   "cell_type": "code",
   "execution_count": 16,
   "metadata": {},
   "outputs": [
    {
     "data": {
      "text/plain": [
       "array([11, 10,  5,  4,  1,  1,  1], dtype=int64)"
      ]
     },
     "execution_count": 16,
     "metadata": {},
     "output_type": "execute_result"
    }
   ],
   "source": [
    "ic.value_counts().values"
   ]
  },
  {
   "cell_type": "code",
   "execution_count": 17,
   "metadata": {},
   "outputs": [
    {
     "data": {
      "text/plain": [
       "numpy.ndarray"
      ]
     },
     "execution_count": 17,
     "metadata": {},
     "output_type": "execute_result"
    }
   ],
   "source": [
    "type(ic.value_counts().values)"
   ]
  },
  {
   "cell_type": "code",
   "execution_count": 18,
   "metadata": {},
   "outputs": [
    {
     "data": {
      "text/plain": [
       "array(['chocolate', 'strawberry', 'vanilla', 'rum raisin', 'cotton candy',\n",
       "       'purple cow', 'bubble gum'], dtype=object)"
      ]
     },
     "execution_count": 18,
     "metadata": {},
     "output_type": "execute_result"
    }
   ],
   "source": [
    "ic.unique()"
   ]
  },
  {
   "cell_type": "markdown",
   "metadata": {},
   "source": [
    "## pandas Makes Graphing Easy"
   ]
  },
  {
   "cell_type": "code",
   "execution_count": 19,
   "metadata": {
    "collapsed": true
   },
   "outputs": [],
   "source": [
    "%matplotlib inline\n",
    "import matplotlib.pyplot as plt"
   ]
  },
  {
   "cell_type": "code",
   "execution_count": 20,
   "metadata": {},
   "outputs": [
    {
     "data": {
      "image/png": "[encoded data removed]",
      "text/plain": [
       "<Figure size 720x504 with 1 Axes>"
      ]
     },
     "metadata": {},
     "output_type": "display_data"
    }
   ],
   "source": [
    "fig,ax = plt.subplots()\n",
    "ax.bar(ic.value_counts().index,ic.value_counts().values)\n",
    "fig.set_size_inches(10,7)\n",
    "plt.show()"
   ]
  },
  {
   "cell_type": "markdown",
   "metadata": {},
   "source": [
    "## A Series with Numerical Data\n",
    "\n",
    "We, similarly to the example above, create a list and convert it into a pandas Series data type.\n",
    "\n",
    "These data represent temperatures in degrees Fahrenheit."
   ]
  },
  {
   "cell_type": "code",
   "execution_count": null,
   "metadata": {
    "collapsed": true
   },
   "outputs": [],
   "source": [
    "temp = [65.5, 37.8, 98.3, 84.8, 52.8, 15.8, 37.4, 72.6, 37.2, 28.5, 74.2, 50.1, 12.7, 79.3, 20.0, 47.6, 96.2, 58.5, 95.8, 34.7, 67.1, 78.8, 13.1, 48.0, 23.1, 69.8, 91.3, 11.3, 16.1, 4.4, 92.2, 82.7, 53.2, 71.1, 93.2, 33.0, 39.7, 16.6, 74.5, 22.2, 80.9, 21.6, 87.3, 2.6, 8.1, 46.6, 24.5, 84.4, 14.3, 69.7]"
   ]
  },
  {
   "cell_type": "code",
   "execution_count": null,
   "metadata": {},
   "outputs": [],
   "source": [
    "temp"
   ]
  },
  {
   "cell_type": "code",
   "execution_count": null,
   "metadata": {
    "collapsed": true
   },
   "outputs": [],
   "source": [
    "temp = pd.Series(temp)"
   ]
  },
  {
   "cell_type": "code",
   "execution_count": null,
   "metadata": {},
   "outputs": [],
   "source": [
    "type(temp)"
   ]
  },
  {
   "cell_type": "markdown",
   "metadata": {},
   "source": [
    "## Series Structure\n",
    "\n",
    "Series have one data column and an index \"column.\""
   ]
  },
  {
   "cell_type": "code",
   "execution_count": null,
   "metadata": {
    "scrolled": true
   },
   "outputs": [],
   "source": [
    "temp"
   ]
  },
  {
   "cell_type": "code",
   "execution_count": null,
   "metadata": {},
   "outputs": [],
   "source": [
    "temp.head()"
   ]
  },
  {
   "cell_type": "code",
   "execution_count": null,
   "metadata": {},
   "outputs": [],
   "source": [
    "temp.index"
   ]
  },
  {
   "cell_type": "code",
   "execution_count": null,
   "metadata": {},
   "outputs": [],
   "source": [
    "temp.values"
   ]
  },
  {
   "cell_type": "code",
   "execution_count": null,
   "metadata": {},
   "outputs": [],
   "source": [
    "temp.size"
   ]
  },
  {
   "cell_type": "markdown",
   "metadata": {},
   "source": [
    "## Accessing Series Data\n",
    "\n",
    "Data rows can be accessed either by the 'label' in the index \"column\" or by their position in the data column.  The .loc command finds data rows based on their label and .iloc finds data based on it position, that is, the sequence in which the rows are found in the Series.  To start, the index column has values starting at 0 and incrementing by 1 with every subsequent row, so .loc and iloc will work identically."
   ]
  },
  {
   "cell_type": "code",
   "execution_count": null,
   "metadata": {},
   "outputs": [],
   "source": [
    "temp.loc[0]"
   ]
  },
  {
   "cell_type": "code",
   "execution_count": null,
   "metadata": {},
   "outputs": [],
   "source": [
    "temp.iloc[0]"
   ]
  },
  {
   "cell_type": "markdown",
   "metadata": {},
   "source": [
    "But, now, let's change the indices!"
   ]
  },
  {
   "cell_type": "code",
   "execution_count": null,
   "metadata": {
    "collapsed": true
   },
   "outputs": [],
   "source": [
    "temp.index = range(51,101,1)"
   ]
  },
  {
   "cell_type": "code",
   "execution_count": null,
   "metadata": {},
   "outputs": [],
   "source": [
    "temp.index"
   ]
  },
  {
   "cell_type": "markdown",
   "metadata": {},
   "source": [
    "The statement below will yield an error since we no long have an index label of 0."
   ]
  },
  {
   "cell_type": "code",
   "execution_count": null,
   "metadata": {},
   "outputs": [],
   "source": [
    "temp.loc[0]"
   ]
  },
  {
   "cell_type": "markdown",
   "metadata": {},
   "source": [
    "The first record, now, has a label of 51."
   ]
  },
  {
   "cell_type": "code",
   "execution_count": null,
   "metadata": {},
   "outputs": [],
   "source": [
    "temp.loc[51]"
   ]
  },
  {
   "cell_type": "code",
   "execution_count": null,
   "metadata": {},
   "outputs": [],
   "source": [
    "temp.iloc[0]"
   ]
  },
  {
   "cell_type": "markdown",
   "metadata": {},
   "source": [
    "## Series Methods for Numerical Data"
   ]
  },
  {
   "cell_type": "code",
   "execution_count": null,
   "metadata": {},
   "outputs": [],
   "source": [
    "print('temp.sum(): ',temp.sum())\n",
    "print('temp.mean(): ',temp.mean())\n",
    "print('temp.median(): ',temp.median())\n",
    "print('temp.product(): ',temp.product())\n",
    "print('\\ntemp.describe(): \\n',temp.describe())\n"
   ]
  },
  {
   "cell_type": "code",
   "execution_count": null,
   "metadata": {
    "scrolled": true
   },
   "outputs": [],
   "source": [
    "temp.sort_values()\n",
    "temp.head()"
   ]
  },
  {
   "cell_type": "markdown",
   "metadata": {},
   "source": [
    "Oops, the command above did not change the series.  The Series is not altered unless we set the 'inplace' parameter equal to True. "
   ]
  },
  {
   "cell_type": "code",
   "execution_count": null,
   "metadata": {
    "scrolled": true
   },
   "outputs": [],
   "source": [
    "saveIt = temp.sort_values()\n",
    "saveIt.head()\n",
    "saveIt"
   ]
  },
  {
   "cell_type": "code",
   "execution_count": null,
   "metadata": {},
   "outputs": [],
   "source": [
    "temp.sort_values(inplace=True)\n",
    "temp.head()"
   ]
  },
  {
   "cell_type": "markdown",
   "metadata": {},
   "source": [
    "Use the ascending parameter to sort in descending order."
   ]
  },
  {
   "cell_type": "code",
   "execution_count": null,
   "metadata": {},
   "outputs": [],
   "source": [
    "temp.sort_values(inplace=True,ascending=False)\n",
    "temp.head()"
   ]
  },
  {
   "cell_type": "markdown",
   "metadata": {},
   "source": [
    "You can use the command below to put the data back in their original order, by index, if your indices are sequential integers."
   ]
  },
  {
   "cell_type": "code",
   "execution_count": null,
   "metadata": {},
   "outputs": [],
   "source": [
    "temp.sort_index(inplace=True)\n",
    "temp.head()"
   ]
  },
  {
   "cell_type": "markdown",
   "metadata": {},
   "source": [
    "## Appending One Series to Another\n",
    "\n",
    "Again, the changes are not permanent unless you resave the combined Series back to the original Series variable."
   ]
  },
  {
   "cell_type": "code",
   "execution_count": null,
   "metadata": {
    "scrolled": true
   },
   "outputs": [],
   "source": [
    "temp_new = pd.Series([0.0])\n",
    "temp.append(temp_new)\n",
    "temp"
   ]
  },
  {
   "cell_type": "code",
   "execution_count": null,
   "metadata": {
    "scrolled": true
   },
   "outputs": [],
   "source": [
    "temp_new = pd.Series([0.0])\n",
    "temp = temp.append(temp_new)\n",
    "print(temp.size, temp.index)\n",
    "temp"
   ]
  },
  {
   "cell_type": "markdown",
   "metadata": {},
   "source": [
    "The .drop() method can be used to delete Series row based on label."
   ]
  },
  {
   "cell_type": "code",
   "execution_count": null,
   "metadata": {
    "scrolled": true
   },
   "outputs": [],
   "source": [
    "temp.drop(labels=0, inplace=True)\n",
    "print(temp.size, temp.index)\n",
    "temp"
   ]
  },
  {
   "cell_type": "code",
   "execution_count": null,
   "metadata": {
    "collapsed": true
   },
   "outputs": [],
   "source": [
    "%matplotlib inline\n",
    "import matplotlib.pyplot as plt"
   ]
  },
  {
   "cell_type": "markdown",
   "metadata": {},
   "source": [
    "pandas Series make for easy plotting.  The index range automatically serves as the x-axis labels and the data column is used for the y-axis data."
   ]
  },
  {
   "cell_type": "code",
   "execution_count": null,
   "metadata": {},
   "outputs": [],
   "source": [
    "fig,ax = plt.subplots()\n",
    "ax.plot(temp)\n",
    "plt.show()"
   ]
  },
  {
   "cell_type": "markdown",
   "metadata": {
    "collapsed": true
   },
   "source": [
    "# How I Constructed the Temperature Data\n",
    "\n",
    "I created some random values using the list comprehension statemetn below, while formatting the data to have one decimal place.  I then copied the data and pasted it into a definition statement for the temp variable."
   ]
  },
  {
   "cell_type": "code",
   "execution_count": null,
   "metadata": {
    "collapsed": true
   },
   "outputs": [],
   "source": [
    "import numpy as np\n",
    "temp = [float(f'{0.0 + 100.0 * np.random.random():.1f}')  for i in range(50)]\n",
    "temp"
   ]
  },
  {
   "cell_type": "code",
   "execution_count": null,
   "metadata": {
    "collapsed": true
   },
   "outputs": [],
   "source": []
  }
 ],
 "metadata": {
  "kernelspec": {
   "display_name": "Python 3",
   "language": "python",
   "name": "python3"
  },
  "language_info": {
   "codemirror_mode": {
    "name": "ipython",
    "version": 3
   },
   "file_extension": ".py",
   "mimetype": "text/x-python",
   "name": "python",
   "nbconvert_exporter": "python",
   "pygments_lexer": "ipython3",
   "version": "3.6.3"
  }
 },
 "nbformat": 4,
 "nbformat_minor": 2
}
